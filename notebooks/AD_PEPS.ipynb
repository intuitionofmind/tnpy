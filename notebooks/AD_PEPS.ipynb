{
 "cells": [
  {
   "cell_type": "code",
   "execution_count": 1,
   "metadata": {},
   "outputs": [
    {
     "ename": "SyntaxError",
     "evalue": "invalid syntax (quantum_boson_square.py, line 131)",
     "output_type": "error",
     "traceback": [
      "Traceback \u001b[0;36m(most recent call last)\u001b[0m:\n",
      "\u001b[0m  File \u001b[1;32m~/miniconda3/envs/py310/lib/python3.10/site-packages/IPython/core/interactiveshell.py:3577\u001b[0m in \u001b[1;35mrun_code\u001b[0m\n    exec(code_obj, self.user_global_ns, self.user_ns)\u001b[0m\n",
      "\u001b[0m  Cell \u001b[1;32mIn[1], line 19\u001b[0m\n    import tnpy as tp\u001b[0m\n",
      "\u001b[0m  File \u001b[1;32m~/Documents/physics/code/tnpy/tnpy/__init__.py:9\u001b[0m\n    import ctmrg\u001b[0m\n",
      "\u001b[0;36m  File \u001b[0;32m~/Documents/physics/code/tnpy/tnpy/ctmrg/__init__.py:2\u001b[0;36m\n\u001b[0;31m    from .quantum_boson_square import QuantumSquareCTMRG\u001b[0;36m\n",
      "\u001b[0;36m  File \u001b[0;32m~/Documents/physics/code/tnpy/tnpy/ctmrg/quantum_boson_square.py:131\u001b[0;36m\u001b[0m\n\u001b[0;31m    def build_ctm_\u001b[0m\n\u001b[0m                  ^\u001b[0m\n\u001b[0;31mSyntaxError\u001b[0m\u001b[0;31m:\u001b[0m invalid syntax\n"
     ]
    }
   ],
   "source": [
    "import numpy as np\n",
    "import opt_einsum as oe\n",
    "from copy import deepcopy\n",
    "import itertools\n",
    "from scipy import integrate\n",
    "import pickle as pk\n",
    "import copy\n",
    "import math\n",
    "import scipy\n",
    "\n",
    "import torch\n",
    "torch.set_default_dtype(torch.float64)\n",
    "\n",
    "import os\n",
    "import sys\n",
    "sys.path.append(os.path.realpath('/Users/wei/Documents/physics/code/tnpy'))\n",
    "sys.path.append(os.path.realpath('/Users/wei/Documents/physics/code/tnpy/tnpy'))\n",
    "\n",
    "import tnpy as tp"
   ]
  },
  {
   "cell_type": "code",
   "execution_count": 4,
   "metadata": {},
   "outputs": [
    {
     "name": "stdout",
     "output_type": "stream",
     "text": [
      "tensor([[-1.19889,  0.02258,  1.22681],\n",
      "        [ 0.64739, -0.18390, -1.05985],\n",
      "        [-1.14678, -1.35689, -0.24403],\n",
      "        [-0.01183, -1.39781,  0.28115]])\n",
      "torch.Size([4, 3]) torch.Size([3]) torch.Size([3, 3])\n",
      "tensor([[ 0.58773,  0.53913, -0.04522],\n",
      "        [-0.35289, -0.49005, -0.21365],\n",
      "        [ 0.61638, -0.50100, -0.57488],\n",
      "        [ 0.38746, -0.46710,  0.78855]])\n",
      "tensor([2.34603, 1.89191, 0.82754])\n",
      "tensor([[-0.70098, -0.55404,  0.44908],\n",
      "        [-0.20273,  0.75850,  0.61933],\n",
      "        [ 0.68376, -0.34310,  0.64401]])\n",
      "tensor(1.13574e-15)\n",
      "torch.Size([4, 3]) torch.Size([3]) torch.Size([3, 3])\n",
      "tensor([[ 0.58773,  0.53913, -0.04522],\n",
      "        [-0.35289, -0.49005, -0.21365],\n",
      "        [ 0.61638, -0.50100, -0.57488],\n",
      "        [ 0.38746, -0.46710,  0.78855]])\n",
      "tensor([2.34603, 1.89191, 0.82754])\n",
      "tensor([[-0.70098, -0.55404,  0.44908],\n",
      "        [-0.20273,  0.75850,  0.61933],\n",
      "        [ 0.68376, -0.34310,  0.64401]])\n",
      "tensor(1.13574e-15)\n"
     ]
    }
   ],
   "source": [
    "%reload_ext autoreload\n",
    "%autoreload all\n",
    "\n",
    "t = torch.randn(4, 3)\n",
    "print(t)\n",
    "\n",
    "u, s, v = torch.linalg.svd(t, full_matrices=False)\n",
    "print(u.shape, s.shape, v.shape)\n",
    "print(u)\n",
    "print(s)\n",
    "print(v)\n",
    "\n",
    "print(torch.linalg.norm((u @ s.diag() @ v)-t))\n",
    "\n",
    "u, s, v = tp.linalg.svd(t)\n",
    "print(u.shape, s.shape, v.shape)\n",
    "print(u)\n",
    "print(s)\n",
    "print(v)\n",
    "\n",
    "print(torch.linalg.norm((u @ s.diag() @ v)-t))"
   ]
  },
  {
   "cell_type": "code",
   "execution_count": 41,
   "metadata": {},
   "outputs": [
    {
     "name": "stdout",
     "output_type": "stream",
     "text": [
      "((0, 0), (1, 0), (0, 1), (1, 1)) 2 2\n",
      "tensor([[[[ 0.25000,  0.00000],\n",
      "          [ 0.00000, -0.25000]],\n",
      "\n",
      "         [[ 0.00000,  0.00000],\n",
      "          [ 0.50000,  0.00000]]],\n",
      "\n",
      "\n",
      "        [[[ 0.00000,  0.50000],\n",
      "          [ 0.00000,  0.00000]],\n",
      "\n",
      "         [[-0.25000,  0.00000],\n",
      "          [ 0.00000,  0.25000]]]])\n",
      "tensor([[0.25000, 0.00000],\n",
      "        [0.00000, 0.25000]])\n",
      "tensor([[0.25000+0.j, 0.00000+0.j],\n",
      "        [0.00000+0.j, 0.25000+0.j]])\n",
      "tensor([[0.25000, 0.00000],\n",
      "        [0.00000, 0.25000]])\n"
     ]
    }
   ],
   "source": [
    "# Heisenberg model\n",
    "# exact GS energy: E=-0.66944\n",
    "%reload_ext autoreload\n",
    "%autoreload all\n",
    "\n",
    "chi = 3\n",
    "nx, ny = 2, 2\n",
    "\n",
    "\n",
    "tps = tp.tps.SquareTPS.randn(nx=nx, ny=ny, chi=chi, dtype=torch.float64)\n",
    "print(tps.coords, tps.nx, tps.ny)\n",
    "\n",
    "xyz = tp.models.SquareXYZ(Jx=1.0, Jy=1.0, Jz=1.0, dtype=torch.float64)\n",
    "ham_xyz = xyz.twobody_ham()\n",
    "print(ham_xyz)\n",
    "teo = xyz.twobody_img_time_evo(delta=0.1)\n",
    "\n",
    "print(xyz.sx @ xyz.sx)\n",
    "print(xyz.sy @ xyz.sy)\n",
    "print(xyz.sz @ xyz.sz)"
   ]
  },
  {
   "cell_type": "code",
   "execution_count": 42,
   "metadata": {},
   "outputs": [
    {
     "name": "stdout",
     "output_type": "stream",
     "text": [
      "0.01 0 tensor(5.47324)\n",
      "tensor([0.14633, 0.06059, 0.15497, 0.12867, 0.09095, 0.17240, 0.12223, 0.15201]) tensor(0.12852)\n",
      "0.01 500 tensor(0.00471)\n",
      "tensor([-0.25517, -0.22791, -0.25208, -0.25418, -0.25573, -0.23662, -0.25548,\n",
      "        -0.25400]) tensor(-0.24890)\n",
      "0.001 0 tensor(0.00589)\n",
      "tensor([-0.25607, -0.25614, -0.25641, -0.25622, -0.25619, -0.25661, -0.25654,\n",
      "        -0.25668]) tensor(-0.25636)\n",
      "0.001 500 tensor(8.42438e-06)\n",
      "tensor([-0.25631, -0.25632, -0.25636, -0.25634, -0.25634, -0.25640, -0.25640,\n",
      "        -0.25642]) tensor(-0.25636)\n",
      "0.0001 0 tensor(0.00058)\n",
      "tensor([-0.25634, -0.25635, -0.25638, -0.25636, -0.25636, -0.25640, -0.25639,\n",
      "        -0.25641]) tensor(-0.25637)\n",
      "0.0001 500 tensor(5.74856e-07)\n",
      "tensor([-0.25635, -0.25635, -0.25638, -0.25636, -0.25636, -0.25639, -0.25639,\n",
      "        -0.25640]) tensor(-0.25637)\n",
      "1e-05 0 tensor(5.83280e-05)\n",
      "tensor([-0.25635, -0.25636, -0.25638, -0.25636, -0.25636, -0.25639, -0.25639,\n",
      "        -0.25640]) tensor(-0.25637)\n",
      "1e-05 500 tensor(5.48030e-08)\n",
      "tensor([-0.25635, -0.25636, -0.25638, -0.25636, -0.25636, -0.25639, -0.25639,\n",
      "        -0.25640]) tensor(-0.25637)\n",
      "1e-06 0 tensor(5.83204e-06)\n",
      "tensor([-0.25636, -0.25636, -0.25638, -0.25636, -0.25636, -0.25639, -0.25639,\n",
      "        -0.25640]) tensor(-0.25637)\n",
      "1e-06 500 tensor(5.45433e-09)\n",
      "tensor([-0.25636, -0.25636, -0.25638, -0.25636, -0.25636, -0.25639, -0.25639,\n",
      "        -0.25640]) tensor(-0.25637)\n"
     ]
    }
   ],
   "source": [
    "deltas = [1E-2, 1E-3, 1E-4, 1E-5, 1E-6]\n",
    "nums = [1000]*len(deltas)\n",
    "\n",
    "counter = 0\n",
    "for d, n in zip(deltas, nums):\n",
    "\n",
    "    teo = xyz.twobody_img_time_evo(delta=d)\n",
    "    u, s, v = tp.linalg.tsvd(teo, group_dims=((0, 2), (1, 3)), svd_dims=(1, 0))\n",
    "    ss = torch.sqrt(s).diag().to(xyz.dtype)\n",
    "    us = torch.einsum('abc,bB->aBc', u, ss)\n",
    "    sv = torch.einsum('Aa,abc->Abc', ss, v)\n",
    "    te_mpo = us, sv\n",
    "\n",
    "    for l in range(n):\n",
    "        old_lts = tps.link_tensors()\n",
    "        tps.simple_update_proj(te_mpo)\n",
    "        counter += 1\n",
    "\n",
    "        if l % 500 == 0:\n",
    "            new_lts = tps.link_tensors()\n",
    "            diff = 0.0\n",
    "            for key, value in new_lts.items():\n",
    "                diff += torch.linalg.norm(value[0]-old_lts[key][0])\n",
    "                diff += torch.linalg.norm(value[1]-old_lts[key][1])\n",
    "            print(d, l, diff)\n",
    "\n",
    "            beta_meas = tps.beta_twobody_measure(ham_xyz)\n",
    "            print(beta_meas, torch.mean(beta_meas))"
   ]
  },
  {
   "cell_type": "code",
   "execution_count": 46,
   "metadata": {},
   "outputs": [
    {
     "name": "stdout",
     "output_type": "stream",
     "text": [
      "(0, 0) torch.Size([3, 3, 3, 3, 2])\n",
      "(1, 0) torch.Size([3, 3, 3, 3, 2])\n",
      "(0, 1) torch.Size([3, 3, 3, 3, 2])\n",
      "(1, 1) torch.Size([3, 3, 3, 3, 2])\n",
      "torch.Size([2, 2, 2, 2]) torch.Size([4, 2, 2]) torch.Size([4, 2, 2])\n",
      "torch.Size([9, 9, 36, 9])\n",
      "torch.Size([36, 9, 9, 9])\n",
      "torch.Size([4, 3, 3, 3, 3, 2]) torch.Size([3, 3, 3, 3, 2])\n"
     ]
    }
   ],
   "source": [
    "%reload_ext autoreload\n",
    "%autoreload all\n",
    "\n",
    "wf = tps.unified_tensor()\n",
    "mts = tps.merged_tensors()\n",
    "dts = {}\n",
    "for key, val in mts.items():\n",
    "    print(key, val.shape)\n",
    "    temp = torch.einsum('ABCDe,abcde->AaBbCcDd', val.conj(), val).reshape((chi**2, chi**2, chi**2, chi**2))\n",
    "    dts.update({key: temp})\n",
    "\n",
    "# ctmrg = tp.ctmrg.QuantumSquareCTMRG(wfs=mts, rho=8)\n",
    "# impure_tx = torch.rand((chi**2, chi**2, chi**2, chi**2)), torch.rand((chi**2, chi**2, chi**2, chi**2))\n",
    "\n",
    "# SVD to MPO\n",
    "u, s, v = tp.linalg.tsvd(ham_xyz, group_dims=((0, 2), (1, 3)), svd_dims=(0, 0))\n",
    "ss = torch.sqrt(s).diag()\n",
    "us = torch.einsum('Aa,abc->Abc', ss, u)\n",
    "sv = torch.einsum('Aa,abc->Abc', ss, v)\n",
    "ham_mpo = us, sv\n",
    "print(ham_xyz.shape, us.shape, sv.shape)\n",
    "\n",
    "c, cx = (0, 0), (1, 0)\n",
    "impure_tx = [\n",
    "        torch.einsum(\n",
    "            'ABCDE,fEe,abcde->AaBbCfcDd',\n",
    "            mts[c].conj(), ham_mpo[0], mts[c]).reshape([chi**2, chi**2, chi**2*4, chi**2]),\n",
    "        torch.einsum(\n",
    "            'ABCDE,fEe,abcde->AfaBbCcDd', \n",
    "            mts[cx].conj(), ham_mpo[1], mts[cx]).reshape([chi**2*4, chi**2, chi**2, chi**2]),\n",
    "        ]\n",
    "for t in impure_tx:\n",
    "    print(t.shape)\n",
    "\n",
    "print(wf.shape, wf[0].shape)"
   ]
  },
  {
   "cell_type": "code",
   "execution_count": null,
   "metadata": {},
   "outputs": [],
   "source": [
    "%reload_ext autoreload\n",
    "%autoreload all\n",
    "\n",
    "ctmrg = tp.ctmrg.ClassicalSquareCTMRG(ts=dts, rho=32)\n",
    "\n",
    "for k in range(16):\n",
    "    ctmrg.rg_mu()\n",
    "    ctmrg.rg_md()\n",
    "    ctmrg.rg_ml()\n",
    "    ctmrg.rg_mr()\n",
    "\n",
    "    val_x = ctmrg.measure_twobody(c=(0, 0), impure_ts=impure_tx, direction='x')\n",
    "    print(k, val_x.item())\n",
    "    # val_y = ctmrg.measure_twobody(c=(0, 0), impure_ts=impure_ts_y, direction='y')\n",
    "    # print(k, 'x-y:', val_x.item()*2, val_y.item()*2)"
   ]
  },
  {
   "cell_type": "code",
   "execution_count": 67,
   "metadata": {},
   "outputs": [
    {
     "name": "stdout",
     "output_type": "stream",
     "text": [
      "0 -0.36682081636062736\n",
      "1 [-0.26044712799104547, -0.2604673473167914, -0.26045408358892613, -0.26047907238864554] -0.26046190782135215\n",
      "2 [-0.2597860821637273, -0.25980639173210357, -0.2597946969825964, -0.259817346923001] -0.25980112945035705\n",
      "3 [-0.2597950402055385, -0.2598151123883663, -0.2598036869859181, -0.25982651782809035] -0.2598100893519783\n",
      "4 [-0.2597893261163266, -0.2598107751097077, -0.259800349795851, -0.259822114814708] -0.2598056414591483\n",
      "5 [-0.25978806612381944, -0.259808405018211, -0.25979943977284053, -0.2598199433822267] -0.2598039635742744\n",
      "6 [-0.2597970776154902, -0.2598175142010437, -0.2598088139107068, -0.25982863682283835] -0.25981301063751977\n"
     ]
    },
    {
     "ename": "KeyboardInterrupt",
     "evalue": "",
     "output_type": "error",
     "traceback": [
      "\u001b[0;31m---------------------------------------------------------------------------\u001b[0m",
      "\u001b[0;31mKeyboardInterrupt\u001b[0m                         Traceback (most recent call last)",
      "Cell \u001b[0;32mIn[67], line 12\u001b[0m\n\u001b[1;32m     10\u001b[0m \u001b[38;5;28;01mfor\u001b[39;00m k \u001b[38;5;129;01min\u001b[39;00m \u001b[38;5;28mrange\u001b[39m(\u001b[38;5;241m20\u001b[39m):\n\u001b[1;32m     11\u001b[0m     ctmrg\u001b[38;5;241m.\u001b[39mrg_ml()\n\u001b[0;32m---> 12\u001b[0m     \u001b[43mctmrg\u001b[49m\u001b[38;5;241;43m.\u001b[39;49m\u001b[43mrg_mu\u001b[49m\u001b[43m(\u001b[49m\u001b[43m)\u001b[49m\n\u001b[1;32m     13\u001b[0m     ctmrg\u001b[38;5;241m.\u001b[39mrg_mr()\n\u001b[1;32m     14\u001b[0m     ctmrg\u001b[38;5;241m.\u001b[39mrg_md()\n",
      "File \u001b[0;32m~/Documents/physics/code/tnpy/tnpy/ctmrg/quantum_boson_square.py:330\u001b[0m, in \u001b[0;36mQuantumSquareCTMRG.rg_mu\u001b[0;34m(self)\u001b[0m\n\u001b[1;32m    328\u001b[0m \u001b[38;5;66;03m# build projectors\u001b[39;00m\n\u001b[1;32m    329\u001b[0m pl, pr \u001b[38;5;241m=\u001b[39m \u001b[38;5;28mself\u001b[39m\u001b[38;5;241m.\u001b[39mrg_projectors_u2(c\u001b[38;5;241m=\u001b[39m((i\u001b[38;5;241m-\u001b[39m\u001b[38;5;241m1\u001b[39m) \u001b[38;5;241m%\u001b[39m \u001b[38;5;28mself\u001b[39m\u001b[38;5;241m.\u001b[39m_nx, j))\n\u001b[0;32m--> 330\u001b[0m pl_prime, pr_prime \u001b[38;5;241m=\u001b[39m \u001b[38;5;28;43mself\u001b[39;49m\u001b[38;5;241;43m.\u001b[39;49m\u001b[43mrg_projectors_u2\u001b[49m\u001b[43m(\u001b[49m\u001b[43mc\u001b[49m\u001b[38;5;241;43m=\u001b[39;49m\u001b[43m(\u001b[49m\u001b[43mi\u001b[49m\u001b[43m,\u001b[49m\u001b[43m \u001b[49m\u001b[43mj\u001b[49m\u001b[43m)\u001b[49m\u001b[43m)\u001b[49m\n\u001b[1;32m    331\u001b[0m \u001b[38;5;66;03m# use projectors to compress\u001b[39;00m\n\u001b[1;32m    332\u001b[0m mps[\u001b[38;5;241m0\u001b[39m] \u001b[38;5;241m=\u001b[39m torch\u001b[38;5;241m.\u001b[39meinsum(\u001b[38;5;124m'\u001b[39m\u001b[38;5;124mabcd,abce->ed\u001b[39m\u001b[38;5;124m'\u001b[39m, mpo_mps[\u001b[38;5;241m0\u001b[39m], pl)\n",
      "File \u001b[0;32m~/Documents/physics/code/tnpy/tnpy/ctmrg/quantum_boson_square.py:282\u001b[0m, in \u001b[0;36mQuantumSquareCTMRG.rg_projectors_u2\u001b[0;34m(self, c)\u001b[0m\n\u001b[1;32m    280\u001b[0m q, l \u001b[38;5;241m=\u001b[39m tp\u001b[38;5;241m.\u001b[39mlinalg\u001b[38;5;241m.\u001b[39mtqr(rho_r, group_dims\u001b[38;5;241m=\u001b[39m((\u001b[38;5;241m0\u001b[39m, \u001b[38;5;241m1\u001b[39m, \u001b[38;5;241m2\u001b[39m, \u001b[38;5;241m3\u001b[39m, \u001b[38;5;241m4\u001b[39m), (\u001b[38;5;241m5\u001b[39m, \u001b[38;5;241m6\u001b[39m, \u001b[38;5;241m7\u001b[39m)), qr_dims\u001b[38;5;241m=\u001b[39m(\u001b[38;5;241m5\u001b[39m, \u001b[38;5;241m3\u001b[39m))\n\u001b[1;32m    281\u001b[0m \u001b[38;5;66;03m# build projectors\u001b[39;00m\n\u001b[0;32m--> 282\u001b[0m u, s, v \u001b[38;5;241m=\u001b[39m tp\u001b[38;5;241m.\u001b[39mlinalg\u001b[38;5;241m.\u001b[39msvd(\u001b[43mtorch\u001b[49m\u001b[38;5;241;43m.\u001b[39;49m\u001b[43meinsum\u001b[49m\u001b[43m(\u001b[49m\u001b[38;5;124;43m'\u001b[39;49m\u001b[38;5;124;43mabcd,bcde->ae\u001b[39;49m\u001b[38;5;124;43m'\u001b[39;49m\u001b[43m,\u001b[49m\u001b[43m \u001b[49m\u001b[43mr\u001b[49m\u001b[43m,\u001b[49m\u001b[43m \u001b[49m\u001b[43ml\u001b[49m\u001b[43m)\u001b[49m)\n\u001b[1;32m    283\u001b[0m ut, st, vt \u001b[38;5;241m=\u001b[39m u[:, :\u001b[38;5;28mself\u001b[39m\u001b[38;5;241m.\u001b[39m_rho], s[:\u001b[38;5;28mself\u001b[39m\u001b[38;5;241m.\u001b[39m_rho], v[:\u001b[38;5;28mself\u001b[39m\u001b[38;5;241m.\u001b[39m_rho, :]\n\u001b[1;32m    284\u001b[0m ut_dagger, vt_dagger \u001b[38;5;241m=\u001b[39m ut\u001b[38;5;241m.\u001b[39mt()\u001b[38;5;241m.\u001b[39mconj(), vt\u001b[38;5;241m.\u001b[39mt()\u001b[38;5;241m.\u001b[39mconj()\n",
      "File \u001b[0;32m~/miniconda3/envs/py310/lib/python3.10/site-packages/torch/functional.py:380\u001b[0m, in \u001b[0;36meinsum\u001b[0;34m(*args)\u001b[0m\n\u001b[1;32m    375\u001b[0m     \u001b[38;5;28;01mreturn\u001b[39;00m einsum(equation, \u001b[38;5;241m*\u001b[39m_operands)\n\u001b[1;32m    377\u001b[0m \u001b[38;5;28;01mif\u001b[39;00m \u001b[38;5;28mlen\u001b[39m(operands) \u001b[38;5;241m<\u001b[39m\u001b[38;5;241m=\u001b[39m \u001b[38;5;241m2\u001b[39m \u001b[38;5;129;01mor\u001b[39;00m \u001b[38;5;129;01mnot\u001b[39;00m opt_einsum\u001b[38;5;241m.\u001b[39menabled:\n\u001b[1;32m    378\u001b[0m     \u001b[38;5;66;03m# the path for contracting 0 or 1 time(s) is already optimized\u001b[39;00m\n\u001b[1;32m    379\u001b[0m     \u001b[38;5;66;03m# or the user has disabled using opt_einsum\u001b[39;00m\n\u001b[0;32m--> 380\u001b[0m     \u001b[38;5;28;01mreturn\u001b[39;00m \u001b[43m_VF\u001b[49m\u001b[38;5;241;43m.\u001b[39;49m\u001b[43meinsum\u001b[49m\u001b[43m(\u001b[49m\u001b[43mequation\u001b[49m\u001b[43m,\u001b[49m\u001b[43m \u001b[49m\u001b[43moperands\u001b[49m\u001b[43m)\u001b[49m  \u001b[38;5;66;03m# type: ignore[attr-defined]\u001b[39;00m\n\u001b[1;32m    382\u001b[0m path \u001b[38;5;241m=\u001b[39m \u001b[38;5;28;01mNone\u001b[39;00m\n\u001b[1;32m    383\u001b[0m \u001b[38;5;28;01mif\u001b[39;00m opt_einsum\u001b[38;5;241m.\u001b[39mis_available():\n",
      "\u001b[0;31mKeyboardInterrupt\u001b[0m: "
     ]
    }
   ],
   "source": [
    "%reload_ext autoreload\n",
    "%autoreload all\n",
    "\n",
    "ctmrg = tp.ctmrg.QuantumSquareCTMRG(wfs=mts, rho=18)\n",
    "\n",
    "# m = ctmrg.measure_onebody(c=(0, 0), op=(xyz.sx @ xyz.sx))\n",
    "e = ctmrg.measure_twobody(c=(0, 0), op=xyz.twobody_ham())\n",
    "print(0, e.item())\n",
    "\n",
    "for k in range(20):\n",
    "    ctmrg.rg_ml()\n",
    "    ctmrg.rg_mu()\n",
    "    ctmrg.rg_mr()\n",
    "    ctmrg.rg_md()\n",
    "\n",
    "    # m = ctmrg.measure_onebody(c=(0, 0), op=(xyz.sx @ xyz.sx))\n",
    "    es = []\n",
    "    es.append(ctmrg.measure_twobody(c=(0, 0), op=xyz.twobody_ham()).item())\n",
    "    es.append(ctmrg.measure_twobody(c=(1, 0), op=xyz.twobody_ham()).item())\n",
    "    es.append(ctmrg.measure_twobody(c=(0, 1), op=xyz.twobody_ham()).item())\n",
    "    es.append(ctmrg.measure_twobody(c=(1, 1), op=xyz.twobody_ham()).item())\n",
    "    print(k+1, es, np.mean(es))"
   ]
  },
  {
   "cell_type": "code",
   "execution_count": 80,
   "metadata": {},
   "outputs": [],
   "source": [
    "D, chi = 6, 18\n",
    "\n",
    "c = torch.rand(chi, chi)\n",
    "eu, el = torch.rand(chi, chi, D, D), torch.rand(chi, chi, D, D)\n",
    "dt = torch.rand(D, D, D, D, D, D, D, D)"
   ]
  },
  {
   "cell_type": "code",
   "execution_count": 85,
   "metadata": {},
   "outputs": [
    {
     "name": "stdout",
     "output_type": "stream",
     "text": [
      "2.4080276489257812e-05\n",
      "[(0, 1), (0, 2), (0, 1)]\n",
      "  Complete contraction:  eh,efBb,ghAa,AaBbCcDd->fCcgDd\n",
      "         Naive scaling:  12\n",
      "     Optimized scaling:  10\n",
      "      Naive FLOP count:  7.053e+11\n",
      "  Optimized FLOP count:  1.104e+9\n",
      "   Theoretical speedup:  6.389e+2\n",
      "  Largest intermediate:  4.199e+5 elements\n",
      "--------------------------------------------------------------------------------\n",
      "scaling        BLAS                current                             remaining\n",
      "--------------------------------------------------------------------------------\n",
      "   5           GEMM          efBb,eh->fBbh            ghAa,AaBbCcDd,fBbh->fCcgDd\n",
      "   7           TDOT      fBbh,ghAa->fBbgAa               AaBbCcDd,fBbgAa->fCcgDd\n",
      "  10           TDOT fBbgAa,AaBbCcDd->fCcgDd                       fCcgDd->fCcgDd\n"
     ]
    }
   ],
   "source": [
    "import opt_einsum as oe\n",
    "\n",
    "def opt_con(c, eu, el, dt):\n",
    "    return oe.contract('eh,efBb,ghAa,AaBbCcDd->fCcgDd', c, eu, el, dt)\n",
    "\n",
    "def naive_con(c, eu, el, dt):\n",
    "    t0 = oe.contract('efBb,eh->fhBb', eu, c)\n",
    "    t1 = oe.contract('AaBbCcDd,ghAa->gDdhBbCc', dt, el)\n",
    "    return oe.contract('gDdhBbCc,fhBb->fCcgDd', t1, t0)\n",
    "\n",
    "import time\n",
    "start =time.time()\n",
    "for i in range(0):\n",
    "    r = opt_con(c, eu, el, dt)\n",
    "end = time.time()\n",
    "print(end-start)\n",
    "\n",
    "info = oe.contract_path('eh,efBb,ghAa,AaBbCcDd->fCcgDd', c, eu, el, dt)\n",
    "print(info[0])\n",
    "print(info[1])"
   ]
  }
 ],
 "metadata": {
  "kernelspec": {
   "display_name": "py310",
   "language": "python",
   "name": "python3"
  },
  "language_info": {
   "codemirror_mode": {
    "name": "ipython",
    "version": 3
   },
   "file_extension": ".py",
   "mimetype": "text/x-python",
   "name": "python",
   "nbconvert_exporter": "python",
   "pygments_lexer": "ipython3",
   "version": "3.10.13"
  },
  "orig_nbformat": 4
 },
 "nbformat": 4,
 "nbformat_minor": 2
}
