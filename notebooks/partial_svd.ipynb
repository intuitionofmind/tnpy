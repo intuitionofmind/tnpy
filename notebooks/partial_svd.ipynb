{
 "cells": [
  {
   "cell_type": "code",
   "execution_count": 1,
   "metadata": {},
   "outputs": [],
   "source": [
    "import numpy as np\n",
    "import opt_einsum as oe\n",
    "from copy import deepcopy\n",
    "import itertools\n",
    "from scipy import integrate\n",
    "import pickle as pk\n",
    "import copy\n",
    "import math\n",
    "import scipy\n",
    "import pandas as pk\n",
    "\n",
    "import timeit\n",
    "import time\n",
    "\n",
    "import torch\n",
    "torch.set_default_dtype(torch.float64)\n",
    "\n",
    "import os\n",
    "import sys\n",
    "sys.path.append(os.path.realpath('/Users/wei/Documents/physics/code/tnpy'))\n",
    "sys.path.append(os.path.realpath('/Users/wei/Documents/physics/code/tnpy/tnpy'))\n",
    "\n",
    "import tnpy as tp"
   ]
  },
  {
   "cell_type": "code",
   "execution_count": 15,
   "metadata": {},
   "outputs": [],
   "source": [
    "m, n = 6000, 6000\n",
    "t = torch.rand(m, n)+1.j*torch.rand(m, n)\n",
    "# t = t / torch.linalg.norm(t)\n",
    "\n",
    "def full_svd(t:torch.tensor):\n",
    "    u, s, v = torch.linalg.svd(t)\n",
    "    # print(s)\n",
    "    return s\n",
    "\n",
    "def sp_svd(t:torch.tensor, solver='arpack'):\n",
    "    u, s, v = scipy.sparse.linalg.svds(\n",
    "        # scipy.sparse.linalg.aslinearoperator(t.numpy()),\n",
    "        t.numpy(),\n",
    "        k=64, which='LM',\n",
    "        solver=solver)\n",
    "    return s"
   ]
  },
  {
   "cell_type": "code",
   "execution_count": 16,
   "metadata": {},
   "outputs": [
    {
     "name": "stdout",
     "output_type": "stream",
     "text": [
      "torch time: 121.51191878318787\n",
      "6000\n",
      "[4243.20355742   63.1405401    63.07055417   62.99523921   62.95489308\n",
      "   62.75697255   62.67144691   62.59601411   62.56196818   62.50592682]\n"
     ]
    }
   ],
   "source": [
    "num = 1\n",
    "# full\n",
    "start = time.time()\n",
    "for i in range(num):\n",
    "    s = full_svd(t)\n",
    "end = time.time()\n",
    "print('torch time:', end-start)\n",
    "print(len(s))\n",
    "print(s[:10].numpy())"
   ]
  },
  {
   "cell_type": "code",
   "execution_count": 17,
   "metadata": {},
   "outputs": [
    {
     "name": "stdout",
     "output_type": "stream",
     "text": [
      "scipy time: 15.76254391670227\n",
      "64\n",
      "[4243.20355742   63.1405401    63.07055417   62.99523921   62.95489308\n",
      "   62.75697255   62.67144691   62.59601411   62.56196818   62.50592682]\n"
     ]
    }
   ],
   "source": [
    "# scipy:propack\n",
    "start = time.time()\n",
    "for i in range(num):\n",
    "    s = sp_svd(t, solver='arpack')\n",
    "end = time.time()\n",
    "print('scipy time:', end-start)\n",
    "print(len(s))\n",
    "print(s[::-1][:10])"
   ]
  },
  {
   "cell_type": "code",
   "execution_count": 18,
   "metadata": {},
   "outputs": [
    {
     "name": "stdout",
     "output_type": "stream",
     "text": [
      "scipy time: 15.347114086151123\n",
      "64\n",
      "[4243.20355742   63.1405401    63.07055417   62.99523921   62.95489308\n",
      "   62.75697255   62.67144691   62.59601411   62.56196818   62.50592682]\n"
     ]
    }
   ],
   "source": [
    "# scipy:propack\n",
    "start = time.time()\n",
    "for i in range(num):\n",
    "    s = sp_svd(t, solver='propack')\n",
    "end = time.time()\n",
    "print('scipy time:', end-start)\n",
    "print(len(s))\n",
    "print(s[::-1][:10])"
   ]
  }
 ],
 "metadata": {
  "kernelspec": {
   "display_name": "py310",
   "language": "python",
   "name": "python3"
  },
  "language_info": {
   "codemirror_mode": {
    "name": "ipython",
    "version": 3
   },
   "file_extension": ".py",
   "mimetype": "text/x-python",
   "name": "python",
   "nbconvert_exporter": "python",
   "pygments_lexer": "ipython3",
   "version": "3.10.13"
  }
 },
 "nbformat": 4,
 "nbformat_minor": 2
}
