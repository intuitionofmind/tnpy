{
 "cells": [
  {
   "cell_type": "code",
   "execution_count": 14,
   "metadata": {},
   "outputs": [],
   "source": [
    "import pickle as pk\n",
    "import matplotlib as mpl\n",
    "import matplotlib.pyplot as plt\n",
    "import mpl_toolkits\n",
    "# from mpl_toolkits import mplot3d\n",
    "from matplotlib import cm\n",
    "import matplotlib.patches as patches\n",
    "import matplotlib.ticker as ticker\n",
    "from mpl_toolkits.axes_grid1.inset_locator import inset_axes\n",
    "\n",
    "import numpy as np\n",
    "import scipy\n",
    "import math\n",
    "import pandas as pd\n",
    "import os\n",
    "import itertools\n",
    "import glob\n",
    "\n",
    "import torch\n",
    "torch.set_default_dtype(torch.float64)\n",
    "\n",
    "%matplotlib inline\n",
    "\n",
    "class ScalarFormatterForceFormatZero(ticker.ScalarFormatter):\n",
    "    def _set_format(self):  # Override function that finds format to use\n",
    "        self.format = '%1.0f'  # Give format here\n",
    "\n",
    "class ScalarFormatterForceFormatOne(ticker.ScalarFormatter):\n",
    "    def _set_format(self):\n",
    "        self.format = '%1.1f'\n",
    "\n",
    "class ScalarFormatterForceFormat(ticker.ScalarFormatter):\n",
    "    def _set_format(self):\n",
    "        self.format = '%1.2f'\n",
    "        \n",
    "class ScalarFormatterForceFormatThree(ticker.ScalarFormatter):\n",
    "    def _set_format(self):\n",
    "        self.format = '%1.3f'"
   ]
  },
  {
   "cell_type": "code",
   "execution_count": 17,
   "metadata": {},
   "outputs": [
    {
     "name": "stdout",
     "output_type": "stream",
     "text": [
      "The autoreload extension is already loaded. To reload it, use:\n",
      "  %reload_ext autoreload\n"
     ]
    }
   ],
   "source": [
    "%load_ext autoreload\n",
    "%autoreload all --print\n",
    "\n",
    "import sys\n",
    "sys.path.append(os.path.realpath('/Users/wei/Documents/physics/code/tnpy'))\n",
    "sys.path.append(os.path.realpath('/Users/wei/Documents/physics/code/tnpy/tnpy'))\n",
    "\n",
    "import tnpy as tp\n",
    "from tnpy import GTensor\n",
    "from tnpy.mps import FermiMPS as fMPS"
   ]
  },
  {
   "cell_type": "code",
   "execution_count": 18,
   "metadata": {},
   "outputs": [
    {
     "name": "stdout",
     "output_type": "stream",
     "text": [
      "tensor(6.48920e+20-9175.77196j) tensor(6.48920e+20+886.41808j)\n",
      "tensor(3.02967e+20-6.17871e+19j)\n",
      "left inner product: tensor(6.00000+1.28005e-16j)\n",
      "right inner product: tensor(6.00000-2.66738e-16j)\n",
      "Fidelity: tensor(0.00250-5.32525e-20j)\n"
     ]
    }
   ],
   "source": [
    "# our fMPS tensor convention:\n",
    "# \n",
    "#  0 --<--*--<-- 1\n",
    "#         ｜2\n",
    "#         v\n",
    "\n",
    "gt_dual = (0, 1, 0)\n",
    "gt_shape = ((3, 3), (3, 3), (2, 2))\n",
    "\n",
    "fmps = fMPS.rand(n=16, dual=gt_dual, shape=gt_shape)\n",
    "fmps_dagger = fmps.dagger()\n",
    "print(fmps.inner_product(fmps_dagger, fmps), fmps.inner_product(fmps, fmps_dagger))\n",
    "\n",
    "fmps_0 = fMPS.rand(n=16, dual=gt_dual, shape=gt_shape)\n",
    "print(fmps.inner_product(fmps_0.dagger(), fmps))\n",
    "\n",
    "lc_mps = fmps.left_canonical()\n",
    "rc_mps = fmps.right_canonical()\n",
    "\n",
    "print('left inner product:', fmps.inner_product(lc_mps.dagger(), lc_mps))\n",
    "print('right inner product:', fmps.inner_product(rc_mps.dagger(), rc_mps))\n",
    "\n",
    "print('Fidelity:', fmps.fidelity(lc_mps, rc_mps))"
   ]
  },
  {
   "cell_type": "code",
   "execution_count": 20,
   "metadata": {},
   "outputs": [],
   "source": [
    "num = 16\n",
    "gt_dual = (0, 1, 0)\n",
    "ref_fmps = fMPS.rand_obc(n=num, dual=gt_dual, max_shape=(4, 4)).left_canonical()\n",
    "fmps = fMPS.rand_obc(n=num, dual=gt_dual, max_shape=(4, 4)).left_canonical()\n",
    "# fmps.sweep_lr(ref_fmps)"
   ]
  },
  {
   "cell_type": "code",
   "execution_count": null,
   "metadata": {},
   "outputs": [],
   "source": [
    "# finite open MPS\n",
    "\n"
   ]
  }
 ],
 "metadata": {
  "kernelspec": {
   "display_name": "py310",
   "language": "python",
   "name": "python3"
  },
  "language_info": {
   "codemirror_mode": {
    "name": "ipython",
    "version": 3
   },
   "file_extension": ".py",
   "mimetype": "text/x-python",
   "name": "python",
   "nbconvert_exporter": "python",
   "pygments_lexer": "ipython3",
   "version": "3.10.13"
  }
 },
 "nbformat": 4,
 "nbformat_minor": 2
}
