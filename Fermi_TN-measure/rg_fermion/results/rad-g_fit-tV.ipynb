{
 "cells": [
  {
   "cell_type": "code",
   "execution_count": null,
   "metadata": {},
   "outputs": [],
   "source": [
    "import numpy as np\n",
    "from itertools import product\n",
    "import matplotlib as mpl\n",
    "from matplotlib import rc\n",
    "import matplotlib.pyplot as plt\n",
    "from plotutils_1d import *\n",
    "# from scipy.stats import linregress\n",
    "plt.style.use('default')\n",
    "# plt.style.use('dark_background')\n",
    "%config InlineBackend.figure_format = 'svg'\n",
    "\n",
    "rc('font', **{'family': 'serif'})\n",
    "rc('text', usetex=False)\n",
    "mpl.rcParams['font.size'] = 12\n",
    "np.set_printoptions(precision=4, suppress=True)\n",
    "tvbm = [0, 0.25, 1, 1.25, 2, 2.25, 3, 3.25]"
   ]
  },
  {
   "cell_type": "markdown",
   "metadata": {},
   "source": [
    "## Fit Relation between Parameter and Radius"
   ]
  },
  {
   "cell_type": "markdown",
   "metadata": {},
   "source": [
    "The compactification radius of compactified boson CFT is\n",
    "\n",
    "$$\n",
    "\\Delta_{m,n} = \\frac{m^2 R^2}{4} + \\frac{n^2}{R^2}\n",
    "\\Rightarrow\n",
    "R^2 = \\frac{2 \\left(\\Delta + \\sqrt{\\Delta ^2-m^2 n^2}\\right)}{m^2}\n",
    "$$\n",
    "\n",
    "For the lowest level $\\Delta = 0.25$, we should set $m = 1, n = 0$, i.e.\n",
    "\n",
    "$$\n",
    "\\Delta_{1,0} = \\frac{R^2}{4}\n",
    "\\Rightarrow\n",
    "R = 2 \\sqrt{\\Delta_{1,0}}\n",
    "$$\n",
    "\n",
    "Then we can fit data to find the relation between $R$ and the adjustable parameter ($g, \\mu$, etc)\n",
    "\n",
    "<!-- Alternatively, we may also use the 2nd lowest level $m = 0, n = 1$, i.e.\n",
    "\n",
    "$$\n",
    "\\Delta_{0,1} = \\frac{1}{R^2} \n",
    "\\Rightarrow\n",
    "R = \\frac{1}{\\sqrt{\\Delta_{0,1}}}\n",
    "$$ -->"
   ]
  },
  {
   "cell_type": "code",
   "execution_count": null,
   "metadata": {},
   "outputs": [],
   "source": [
    "def scdim_exact(m, n, r2):\n",
    "    \"\"\"Exact scaling dimension of compactified boson CFT\"\"\"\n",
    "    return m**2 * r2 / 4 + n**2 / r2"
   ]
  },
  {
   "cell_type": "markdown",
   "metadata": {},
   "source": [
    "## tV model"
   ]
  },
  {
   "cell_type": "code",
   "execution_count": null,
   "metadata": {},
   "outputs": [],
   "source": [
    "def gather_dim2(datadir, gname, mattype, pltstep, fixvar=dict(), grange=None):\n",
    "    sec1 = gather_dim(datadir, gname, mattype+'-a0', pltstep, fixvar, grange)\n",
    "    sec2 = gather_dim(datadir, gname, mattype+'-p1', pltstep, fixvar, grange)\n",
    "    return combine_dim(sec1, sec2)"
   ]
  },
  {
   "cell_type": "code",
   "execution_count": null,
   "metadata": {},
   "outputs": [],
   "source": [
    "# datadir = \"tV-bm-noflt/\"\n",
    "datadir = \"tV-bm2/\"\n",
    "gname = 'g'\n",
    "pltstep = 14"
   ]
  },
  {
   "cell_type": "code",
   "execution_count": null,
   "metadata": {},
   "outputs": [],
   "source": [
    "# fixvar = {'beta': 1.00}\n",
    "fixvar = {}\n",
    "dimh = gather_dim2(datadir, gname, 'd4h', pltstep, fixvar, grange=(0., 0.9))\n",
    "dimv = gather_dim2(datadir, gname, 'd4v', pltstep, fixvar, grange=(0., 0.9))"
   ]
  },
  {
   "cell_type": "code",
   "execution_count": null,
   "metadata": {},
   "outputs": [],
   "source": [
    "dimv, dimh, vlist = correct_scdim(dimv, dimh, return_v=True)\n",
    "vlist"
   ]
  },
  {
   "cell_type": "code",
   "execution_count": null,
   "metadata": {},
   "outputs": [],
   "source": [
    "# observe the relation between R and parameter\n",
    "fig, ax = plt.subplots(1, 1, figsize=(2, 2))\n",
    "ax.set_xlabel(r'$g$', fontsize=14)\n",
    "ax.set_ylabel(r\"$R^2$\", fontsize=14)\n",
    "ax.tick_params(axis='both', direction='in', labelsize=14)\n",
    "func = ax.scatter\n",
    "kwargs = dict(s=4)\n",
    "\n",
    "xdata = dimh[:,0]\n",
    "ydata = dimh[:,2] * 4\n",
    "func(xdata, ydata, **kwargs)"
   ]
  },
  {
   "cell_type": "code",
   "execution_count": null,
   "metadata": {},
   "outputs": [],
   "source": [
    "# use polynomial fit\n",
    "deg = 1\n",
    "coeff = np.polyfit(xdata, ydata, 1)\n",
    "coeff"
   ]
  },
  {
   "cell_type": "code",
   "execution_count": null,
   "metadata": {},
   "outputs": [],
   "source": [
    "def r2_fit(x, coeff):\n",
    "    y = 0\n",
    "    for i in range(deg + 1):\n",
    "        y += coeff[i] * x**(deg-i)\n",
    "    return y"
   ]
  },
  {
   "cell_type": "code",
   "execution_count": null,
   "metadata": {},
   "outputs": [],
   "source": [
    "ax.plot(xdata, [r2_fit(x, coeff) for x in xdata], label='fit')\n",
    "# compare with exact result\n",
    "# R^2 = 2 * (1-g)\n",
    "ax.plot(xdata, [2 * (1 - x) for x in xdata], label='exact')\n",
    "ax.legend()\n",
    "fig"
   ]
  },
  {
   "cell_type": "markdown",
   "metadata": {},
   "source": [
    "## Plot all sectors and compare with CFT prediction"
   ]
  },
  {
   "cell_type": "code",
   "execution_count": null,
   "metadata": {},
   "outputs": [],
   "source": [
    "# load data\n",
    "dimh = gather_dim2(datadir, gname, 'd4h', pltstep, fixvar, grange=(0.0, 0.9))\n",
    "dimv = gather_dim2(datadir, gname, 'd4v', pltstep, fixvar, grange=(0.0, 0.9))\n",
    "# dimv, dimh = correct_scdim(dimv, dimh)"
   ]
  },
  {
   "cell_type": "code",
   "execution_count": null,
   "metadata": {},
   "outputs": [],
   "source": [
    "def r2_exact(g):\n",
    "    return 2 * (1-g)"
   ]
  },
  {
   "cell_type": "code",
   "execution_count": null,
   "metadata": {},
   "outputs": [],
   "source": [
    "# create canvas\n",
    "fig, ax = plt.subplots(1, 5, figsize=(10, 5), sharey=True)\n",
    "#     fig.patch.set_facecolor('#000000')\n",
    "# adjust spacing\n",
    "plt.subplots_adjust(left=0.06, bottom=0.10, right=0.97, top=0.9, \n",
    "                    wspace=0.1, hspace=0.3)\n",
    "for axis in ax:\n",
    "    axis.set_xlabel(r\"$g$\")\n",
    "    axis.tick_params(axis='both', direction='in')\n",
    "    axis.set_xlim(-0.05, 1.05)\n",
    "    axis.grid(which='both', axis='both')\n",
    "ax[0].set_ylabel(r\"$\\Delta$\")\n",
    "ax[0].set_ylim(bottom=-0.1, top=2.8)\n",
    "\n",
    "# plot reference lines\n",
    "# for i in range(len(tvbm)):\n",
    "#     for axis in ax:\n",
    "#         axis.axhline(y=tvbm[i], color='green', linestyle=':')\n",
    "#         axis.axvline(x=0.5, color='red', linestyle=':')\n",
    "        \n",
    "# plot each sector\n",
    "nev = 80\n",
    "bclist = ['a0', 'a1', 'p0', 'p1']\n",
    "mattype = 'd4h'\n",
    "grange = (0.0, 0.9)\n",
    "scale = 1.0\n",
    "titles = ['APBC\\nEven parity', 'APBC\\nOdd parity', \n",
    "         'PBC\\nEven parity', 'PBC\\nOdd parity']\n",
    "for i, (bc, title) in enumerate(zip(bclist, titles)):\n",
    "    ax[i].set_title(title)\n",
    "    ax[i].set_xlabel(r'$g$')\n",
    "    ax[i].tick_params(axis='both', direction='in')\n",
    "    scdim = gather_dim(datadir, gname, '-'.join([mattype, bc]), pltstep, fixvar, grange)\n",
    "    scdim = scdim[:,0:(nev+1)]\n",
    "    xdata = scdim[:,0]\n",
    "    for j in range(1, scdim.shape[1]):\n",
    "        ydata = scdim[:,j] * scale\n",
    "        ax[i].scatter(xdata, ydata, s=3, color='blue')\n",
    "\n",
    "# plot CFT prediction\n",
    "ax[4].set_title('Compare\\nwith CFT')\n",
    "xdata = dimh[:, 0]\n",
    "# already obtained R^2 = a x + b\n",
    "for m, n, p in product(range(4), range(4), range(4)):\n",
    "    # xdata = np.sort(xdata)\n",
    "    ydata = [scdim_exact(m, n, r2_exact(x))*scale + p for x in xdata]\n",
    "    ax[4].plot(xdata, ydata, color='red', linewidth=0.5)\n",
    "ax[4].plot(xdata, ydata, color='red', linewidth=0.5, label='CFT')\n",
    "    \n",
    "# plot full scaling dimension\n",
    "for i in range(1, dimh.shape[1]):\n",
    "    ydata = dimh[:, i]*scale\n",
    "    ax[4].scatter(xdata, ydata, color='blue', s=3)\n",
    "ax[4].scatter(xdata, ydata, color='blue', s=3, label='Loop-TNR')\n",
    "ax[4].legend(fontsize=9)"
   ]
  },
  {
   "cell_type": "code",
   "execution_count": null,
   "metadata": {},
   "outputs": [],
   "source": [
    "# fig.savefig('radius.pdf')"
   ]
  },
  {
   "cell_type": "code",
   "execution_count": null,
   "metadata": {},
   "outputs": [],
   "source": []
  }
 ],
 "metadata": {
  "kernelspec": {
   "display_name": "Python 3.9.12 ('base')",
   "language": "python",
   "name": "python3"
  },
  "language_info": {
   "codemirror_mode": {
    "name": "ipython",
    "version": 3
   },
   "file_extension": ".py",
   "mimetype": "text/x-python",
   "name": "python",
   "nbconvert_exporter": "python",
   "pygments_lexer": "ipython3",
   "version": "3.10.12"
  },
  "vscode": {
   "interpreter": {
    "hash": "e7cb1b9ae4d417fedf7f40a8eec98f7cfbd359e096bd857395a915f4609834ce"
   }
  }
 },
 "nbformat": 4,
 "nbformat_minor": 4
}
